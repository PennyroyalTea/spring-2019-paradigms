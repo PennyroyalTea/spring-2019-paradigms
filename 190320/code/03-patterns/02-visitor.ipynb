{
 "cells": [
  {
   "cell_type": "markdown",
   "metadata": {},
   "source": [
    "Последний шаблон, который мы разберём — \"посетитель\" (visitor).\n",
    "В домашнем задании потребуется его реализовать в ЯТЬ.\n",
    "\n",
    "Рассмотрим какую-нибудь иерархию домашних животных с четырьмя операциями. Животное можно погладить по голове, по животу, побаловать (pet) и узнать, безопасно ли находиться рядом. Для котов и собак эти операции приводят к разным эффектам. Более того, у кота можно узнать уровень счастья, а у собаки — посмотреть на хвост."
   ]
  },
  {
   "cell_type": "code",
   "execution_count": 5,
   "metadata": {},
   "outputs": [],
   "source": [
    "import random\n",
    "from abc import ABCMeta, abstractmethod\n",
    "\n",
    "class Pet(metaclass=ABCMeta):\n",
    "    @abstractmethod\n",
    "    def pat_head(self):\n",
    "        pass\n",
    "\n",
    "    @abstractmethod\n",
    "    def rub_belly(self):\n",
    "        pass\n",
    "\n",
    "    @abstractmethod\n",
    "    def pet(self):\n",
    "        pass\n",
    "\n",
    "    @abstractmethod\n",
    "    def is_safe(self):\n",
    "        pass\n",
    "\n",
    "\n",
    "class Cat(Pet):\n",
    "    def pat_head(self):\n",
    "        print(\"Purr!\")\n",
    "\n",
    "    def rub_belly(self):\n",
    "        print(\"Don't you dare!\")\n",
    "\n",
    "    def happiness(self):\n",
    "        return random.randint(1, 5)\n",
    "\n",
    "    def pet(self):\n",
    "        self.pat_head()\n",
    "\n",
    "    def is_safe(self):\n",
    "        return self.happiness() >= 3\n",
    "\n",
    "class Dog(Pet):\n",
    "    def pat_head(self):\n",
    "        print(\"I'm happy!\")\n",
    "\n",
    "    def rub_belly(self):\n",
    "        print(\"I'm very happy!\")\n",
    "\n",
    "    def tail_wagging(self):\n",
    "        return True\n",
    "    \n",
    "    def offer_bone(self):\n",
    "        pass\n",
    "\n",
    "    def pet(self):\n",
    "        self.rub_belly()\n",
    "\n",
    "    def is_safe(self):\n",
    "        return self.tail_wagging()"
   ]
  },
  {
   "cell_type": "code",
   "execution_count": 7,
   "metadata": {},
   "outputs": [
    {
     "name": "stdout",
     "output_type": "stream",
     "text": [
      "Purr!\n",
      "True\n",
      "True\n",
      "True\n",
      "I'm very happy!\n",
      "True\n",
      "True\n",
      "True\n"
     ]
    }
   ],
   "source": [
    "def test_pet(pet):\n",
    "    pet.pet();\n",
    "    print(pet.is_safe())\n",
    "    print(pet.is_safe())\n",
    "    print(pet.is_safe())\n",
    "\n",
    "test_pet(Cat())\n",
    "test_pet(Dog())"
   ]
  },
  {
   "cell_type": "markdown",
   "metadata": {},
   "source": [
    "Если мы добавляем новый тип животного, то всё просто: унаследовались от `Pet`, определили методы. А вот если мы захотим добавить новую операцию (например, \"попробовать сделать так, чтобы рядом стало безопасно\"), то нам придётся либо менять все классы и всю иерархию, либо разбирать случаи:"
   ]
  },
  {
   "cell_type": "code",
   "execution_count": 9,
   "metadata": {},
   "outputs": [],
   "source": [
    "def try_make_safe(pet):\n",
    "    if isinstance(pet, Cat):\n",
    "        print('Impossible')\n",
    "    elif isinstance(pet, Dog):\n",
    "        if not pet.is_safe():\n",
    "            pet.offer_bone()\n",
    "        assert pet.is_safe()\n",
    "    else:\n",
    "        raise NotImplementedError"
   ]
  },
  {
   "cell_type": "code",
   "execution_count": 10,
   "metadata": {},
   "outputs": [
    {
     "name": "stdout",
     "output_type": "stream",
     "text": [
      "Impossible\n"
     ]
    }
   ],
   "source": [
    "try_make_safe(Cat())"
   ]
  },
  {
   "cell_type": "code",
   "execution_count": 11,
   "metadata": {},
   "outputs": [],
   "source": [
    "try_make_safe(Dog())"
   ]
  },
  {
   "cell_type": "markdown",
   "metadata": {},
   "source": [
    "Так мы можем легко добавлять новые методы, но в каждом из них у нас идёт длинная цепочка `if`'ов, в которой легко забыть случай (и компилятор это никак не проверит!). Более того, нам требуется динамически узнавать тип объекта, что может быть сложно в некоторых языках вроде C++.\n",
    "\n",
    "Чтобы можно было и добавлять новые методы без изменения классов, и получать помощь от компилятора, есть паттерн \"посетитель\". Мы заводим абстракцию \"операция над животным\" и реализуем нашу функцию в её терминах:"
   ]
  },
  {
   "cell_type": "code",
   "execution_count": 18,
   "metadata": {},
   "outputs": [],
   "source": [
    "class PetVisitor(metaclass=ABCMeta):\n",
    "    @abstractmethod\n",
    "    def visit_cat(self, cat):\n",
    "        pass\n",
    "\n",
    "    @abstractmethod\n",
    "    def visit_dog(self, dog):\n",
    "        pass\n",
    "    \n",
    "class TryMakeSafeVisitor(PetVisitor):\n",
    "    def visit_cat(self, cat):\n",
    "        print('Impossible')\n",
    "        \n",
    "    def visit_dog(self, dog):\n",
    "        if not dog.is_safe():\n",
    "            dog.offer_bone()\n",
    "        assert dog.is_safe()"
   ]
  },
  {
   "cell_type": "markdown",
   "metadata": {},
   "source": [
    "А теперь мы один раз добавляем в исходные классы новый метод `accept`, который вызовет нужный метод из visitor'а:"
   ]
  },
  {
   "cell_type": "code",
   "execution_count": 15,
   "metadata": {},
   "outputs": [],
   "source": [
    "# По-хорошему надо скопировать определение классов, но это сильно раздует код\n",
    "Cat.accept = lambda self, visitor: visitor.visit_cat(self)\n",
    "Dog.accept = lambda self, visitor: visitor.visit_dog(self)"
   ]
  },
  {
   "cell_type": "code",
   "execution_count": 16,
   "metadata": {},
   "outputs": [
    {
     "name": "stdout",
     "output_type": "stream",
     "text": [
      "Impossible\n"
     ]
    }
   ],
   "source": [
    "Cat().accept(TryMakeSafeVisitor())"
   ]
  },
  {
   "cell_type": "code",
   "execution_count": 20,
   "metadata": {},
   "outputs": [],
   "source": [
    "Dog().accept(TryMakeSafeVisitor())"
   ]
  },
  {
   "cell_type": "markdown",
   "metadata": {},
   "source": [
    "У нас появился способ добавлять новые \"методы\" ко всем реализациям интерфейса, не меняя исходные классы. Точнее, мы один раз добавили им метод `accept`, а теперь кто угодно может добавлять новое поведение.\n",
    "\n",
    "В качестве бонуса мы получаем статическую проверку типов: в языках вроде C++/Java в функции `try_make_safe` потребовалось бы после проверки на тип явно писать приведение типов, чтобы вызвать метод `offer_bone()`. А в случае с классом у нас есть отдельные методы, и у каждого метода параметр имеет понятный тип: либо `Cat`, либо `Dog`. И компилятор может понять, что происходит.\n",
    "\n",
    "Кстати, так как в Python нет перегрузки функций, то мне пришлось писать длинные имена: `visit_cat`, `visit_dog`... В Java и C++ обычно будет один метод `visit()` с параметром разных типов. Тогда компилятор заодно проверит, что нет пересечений.\n",
    "\n",
    "Есть две тонкости:\n",
    "\n",
    "1. Если мы захотим добавить новый класс, придётся изменять все visitor'ы. То есть добавлять \"методы\" теперь стало просто, а вот новые классы — сложно.\n",
    "1. Непонятно, как возвращать значение из `visit()`, особенно в языках со статической типизаций. Там надо один раз описать `PetVisitor` и указать возвращаемый тип. Обычно ставят просто `void` и говорят, что `visit`/`accept` ничего не возвращают, а если уж и надо — то visitor запоминает значение внутри себя. В случае с Python можно сказать, что `accept()` просто возвращает то, что вернул `visit()`, а `visit()` возвращает, что захочет. Это, конечно, может несколько свести с ума среду разработки: ей придётся догадываться, что в данном конкретном случае `accept` вызовет конкретный visitor, все методы которого всегда возвращают объект определённого типа.\n",
    "\n",
    "В домашнем задании вам потребуется добавить в интерпретатор ЯТЬ интерфейс `NodeVisitor`, метод `accept` для всех узлов, а также реализовать два visitor'а."
   ]
  }
 ],
 "metadata": {
  "kernelspec": {
   "display_name": "Python 3",
   "language": "python",
   "name": "python3"
  },
  "language_info": {
   "codemirror_mode": {
    "name": "ipython",
    "version": 3
   },
   "file_extension": ".py",
   "mimetype": "text/x-python",
   "name": "python",
   "nbconvert_exporter": "python",
   "pygments_lexer": "ipython3",
   "version": "3.6.4"
  }
 },
 "nbformat": 4,
 "nbformat_minor": 2
}
