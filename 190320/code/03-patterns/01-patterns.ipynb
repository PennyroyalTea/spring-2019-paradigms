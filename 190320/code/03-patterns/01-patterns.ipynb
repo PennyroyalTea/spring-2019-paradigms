{
 "cells": [
  {
   "cell_type": "markdown",
   "metadata": {},
   "source": [
    "Мы уже рассматривали _поведенческие_ [шаблоны проектирования](https://ru.wikipedia.org/wiki/%D0%A8%D0%B0%D0%B1%D0%BB%D0%BE%D0%BD_%D0%BF%D1%80%D0%BE%D0%B5%D0%BA%D1%82%D0%B8%D1%80%D0%BE%D0%B2%D0%B0%D0%BD%D0%B8%D1%8F): итератор, стратегия, команда. Шаблон проектирования — это идея о том, как спроектировать интерфейсы для решения какой-нибудь стандартной задачи.\n",
    "\n",
    "Но бывают и другие виды шаблонов. Вообще есть [классическая книжка](https://ru.wikipedia.org/wiki/Design_Patterns) \"банды четырёх\" (gang of four), можно почитать, но, мне кажется, некоторыми шаблонами можно по-настоящему проникнуться лишь на больших проектах. На маленьких они только вносят сложность и вместо SOLID лучше подходят аббревиатуры YAGNI (You ain't gonna need it — вам это не потребуется; отсылка к лишним классам и интерфейсам) и KISS (Keep it simple, stupid — делай просто и глупо; отсылка туда же).\n",
    "\n",
    "Например, бывают _структурные_ шаблоны проектирования. Они говорят о том, как можно удобно структурировать несколько сущностей. Из них мы рассматривали декоратор (`RleDecoder`).\n",
    "\n",
    "А ещё бывают _порождающие_ шаблоны проектирования. Они рассказывают о том, как удобно создавать новые объекты. Например, шаблон \"Строитель\" (builder) регулярно используется в Java для создания сложных объектов, у которых надо задать не все десять свойств, а только два-три каких-то. В Python это ещё можно сделать при помощи именованных параметров:"
   ]
  },
  {
   "cell_type": "code",
   "execution_count": 1,
   "metadata": {},
   "outputs": [],
   "source": [
    "from collections import namedtuple\n",
    "\n",
    "ComplexClass = namedtuple('ComplexClass', ['a', 'b', 'c', 'd', 'e'])\n",
    "\n",
    "class ComplexClassBuilder():\n",
    "    def __init__(self):\n",
    "        self.a = None\n",
    "        self.b = None\n",
    "        self.c = None\n",
    "        self.d = None\n",
    "        self.e = None\n",
    "        \n",
    "    def set_a(self, a):\n",
    "        self.a = a\n",
    "        return self\n",
    "        \n",
    "    def set_b(self, b):\n",
    "        self.b = b\n",
    "        return self\n",
    "        \n",
    "    def set_c(self, c):\n",
    "        self.c = c\n",
    "        return self\n",
    "        \n",
    "    def set_d(self, d):\n",
    "        self.d = d\n",
    "        return self\n",
    "        \n",
    "    def set_e(self, e):\n",
    "        self.e = e\n",
    "        return self\n",
    "\n",
    "    def build(self):\n",
    "        return ComplexClass(self.a, self.b, self.c, self.d, self.e)"
   ]
  },
  {
   "cell_type": "code",
   "execution_count": 2,
   "metadata": {},
   "outputs": [
    {
     "data": {
      "text/plain": [
       "ComplexClass(a=10, b=None, c=20, d=None, e=None)"
      ]
     },
     "execution_count": 2,
     "metadata": {},
     "output_type": "execute_result"
    }
   ],
   "source": [
    "ComplexClassBuilder().set_a(10).set_c(20).build()"
   ]
  },
  {
   "cell_type": "code",
   "execution_count": 3,
   "metadata": {},
   "outputs": [
    {
     "data": {
      "text/plain": [
       "ComplexClass(a=10, b=None, c=None, d=40, e=None)"
      ]
     },
     "execution_count": 3,
     "metadata": {},
     "output_type": "execute_result"
    }
   ],
   "source": [
    "ComplexClassBuilder().set_a(10).set_d(40).build()"
   ]
  },
  {
   "cell_type": "code",
   "execution_count": 4,
   "metadata": {},
   "outputs": [
    {
     "data": {
      "text/plain": [
       "ComplexClass(a=125, b=20, c=100, d=None, e=510)"
      ]
     },
     "execution_count": 4,
     "metadata": {},
     "output_type": "execute_result"
    }
   ],
   "source": [
    "# А вот такое даже с именованными параметрами не провернуть, потому что там\n",
    "# у каждого параметра надо значение либо указать всегда, либо не указать\n",
    "builder = ComplexClassBuilder()\n",
    "builder.set_a(10 * 10 + 10 // 2 + 5 * 4)  # Какое-то сложное выражение, которое не хочется повторять\n",
    "builder.set_c(100)\n",
    "builder.set_e(510)\n",
    "if 2 * 2 == 4:\n",
    "    builder.set_b(20)\n",
    "builder.build()"
   ]
  },
  {
   "cell_type": "markdown",
   "metadata": {},
   "source": [
    "Другой пример порождающего шаблона — абстрактная фабрика. Мы уже видели простую версию:"
   ]
  },
  {
   "cell_type": "code",
   "execution_count": 5,
   "metadata": {},
   "outputs": [],
   "source": [
    "def create_print_xml(root):\n",
    "    def print_xml(data):\n",
    "        print('<{root}><data>{data}</data></{root}>'.format(\n",
    "            root=root,\n",
    "            data=data\n",
    "        ))\n",
    "    return print_xml"
   ]
  },
  {
   "cell_type": "markdown",
   "metadata": {},
   "source": [
    "Здесь функция `create_print_xml` является фабрикой по производству функций `print_xml`, которые удовлетворяют интерфейсу \"выводильщик данных\". На самом деле, `create_print_xml` тоже можно обобщить до интерфейса \"фабрика по производству выводильщиков в XML\", если окажется, что XML тоже может быть надо выводить в чуть-чуть разных форматах (например, с красивыми переводами строк или в компактном виде). Получится \"абстрактная фабрика\"."
   ]
  }
 ],
 "metadata": {
  "kernelspec": {
   "display_name": "Python 3",
   "language": "python",
   "name": "python3"
  },
  "language_info": {
   "codemirror_mode": {
    "name": "ipython",
    "version": 3
   },
   "file_extension": ".py",
   "mimetype": "text/x-python",
   "name": "python",
   "nbconvert_exporter": "python",
   "pygments_lexer": "ipython3",
   "version": "3.6.4"
  }
 },
 "nbformat": 4,
 "nbformat_minor": 2
}
