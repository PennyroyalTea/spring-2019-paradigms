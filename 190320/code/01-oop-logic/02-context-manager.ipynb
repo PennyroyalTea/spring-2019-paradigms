{
 "cells": [
  {
   "cell_type": "markdown",
   "metadata": {},
   "source": [
    "Другой пример использования объектов для инкапсуляции некоторой \"ответственности\" — [менеджеры контекста](https://docs.python.org/3/reference/datamodel.html#with-statement-context-managers) в Python. Мы с ними уже виделись — это конструкция `with ...:`, которая позволяет, например, закрывать файл после использования:"
   ]
  },
  {
   "cell_type": "code",
   "execution_count": 1,
   "metadata": {},
   "outputs": [],
   "source": [
    "with open('nul', 'r') as f:  # Или /dev/null, если у вас Linux\n",
    "    data = f.read()\n",
    "    assert not data"
   ]
  },
  {
   "cell_type": "markdown",
   "metadata": {},
   "source": [
    "На самом деле никакой магии здесь не происходит. `open` возвращайт объект, который является не только файлом, но и _менеджером контекста_. Это, в терминах Python, объект, у которого есть два метода: `__enter__` (вызывается при входе в блок `with`) и `__exit__` (вызывается при выходе из блока любым способом — и завершение блока, и `return`, и выброс исключение)."
   ]
  },
  {
   "cell_type": "code",
   "execution_count": 2,
   "metadata": {},
   "outputs": [],
   "source": [
    "from contextlib import AbstractContextManager\n",
    "\n",
    "class ContextManagerExample(AbstractContextManager):\n",
    "    def __enter__(self):\n",
    "        print('Entering with')\n",
    "        return 123  # Будет записано конструкцией `... as x`\n",
    "    \n",
    "    def __exit__(self, exc_type, exc_value, traceback):\n",
    "        print('Exiting with')\n",
    "        # Значения, которые описывают исключение, которое вылетело в блоке\n",
    "        # (или None, если он завершился сам)\n",
    "        print('exc_type:', exc_type)\n",
    "        print('exc_value:', exc_value)\n",
    "        print('traceback:', traceback)"
   ]
  },
  {
   "cell_type": "code",
   "execution_count": 3,
   "metadata": {},
   "outputs": [
    {
     "name": "stdout",
     "output_type": "stream",
     "text": [
      "Manager created\n",
      "Entering with\n",
      "x is 123\n",
      "Exiting with\n",
      "exc_type: None\n",
      "exc_value: None\n",
      "traceback: None\n",
      "Block finished\n"
     ]
    }
   ],
   "source": [
    "manager = ContextManagerExample()\n",
    "print('Manager created')\n",
    "with manager as x:\n",
    "    print('x is {}'.format(x))\n",
    "print('Block finished')"
   ]
  },
  {
   "cell_type": "code",
   "execution_count": 4,
   "metadata": {},
   "outputs": [
    {
     "name": "stdout",
     "output_type": "stream",
     "text": [
      "Before block\n",
      "Entering with\n",
      "x is 123\n",
      "Exiting with\n",
      "exc_type: <class 'NotImplementedError'>\n",
      "exc_value: hello\n",
      "traceback: <traceback object at 0x03F4C508>\n"
     ]
    },
    {
     "ename": "NotImplementedError",
     "evalue": "hello",
     "output_type": "error",
     "traceback": [
      "\u001b[1;31m---------------------------------------------------------------------------\u001b[0m",
      "\u001b[1;31mNotImplementedError\u001b[0m                       Traceback (most recent call last)",
      "\u001b[1;32m<ipython-input-4-6faeefd78c94>\u001b[0m in \u001b[0;36m<module>\u001b[1;34m()\u001b[0m\n\u001b[0;32m      2\u001b[0m \u001b[1;32mwith\u001b[0m \u001b[0mmanager\u001b[0m \u001b[1;32mas\u001b[0m \u001b[0mx\u001b[0m\u001b[1;33m:\u001b[0m\u001b[1;33m\u001b[0m\u001b[0m\n\u001b[0;32m      3\u001b[0m     \u001b[0mprint\u001b[0m\u001b[1;33m(\u001b[0m\u001b[1;34m'x is {}'\u001b[0m\u001b[1;33m.\u001b[0m\u001b[0mformat\u001b[0m\u001b[1;33m(\u001b[0m\u001b[0mx\u001b[0m\u001b[1;33m)\u001b[0m\u001b[1;33m)\u001b[0m\u001b[1;33m\u001b[0m\u001b[0m\n\u001b[1;32m----> 4\u001b[1;33m     \u001b[1;32mraise\u001b[0m \u001b[0mNotImplementedError\u001b[0m\u001b[1;33m(\u001b[0m\u001b[1;34m'hello'\u001b[0m\u001b[1;33m)\u001b[0m\u001b[1;33m\u001b[0m\u001b[0m\n\u001b[0m\u001b[0;32m      5\u001b[0m \u001b[0mprint\u001b[0m\u001b[1;33m(\u001b[0m\u001b[1;34m'Block finished'\u001b[0m\u001b[1;33m)\u001b[0m\u001b[1;33m\u001b[0m\u001b[0m\n",
      "\u001b[1;31mNotImplementedError\u001b[0m: hello"
     ]
    }
   ],
   "source": [
    "print('Before block')\n",
    "with manager as x:\n",
    "    print('x is {}'.format(x))\n",
    "    raise NotImplementedError('hello')\n",
    "print('Block finished')"
   ]
  },
  {
   "cell_type": "markdown",
   "metadata": {},
   "source": [
    "Обратите внимание на две особенности:\n",
    "\n",
    "1. Метод `__exit__` вызывается в любом случае, даже при выбросе исключения. Более того: нам дают всю информацию про это исключение (`traceback` содержит информацию о том, где конкретно было выброшено исключение) и мы можем в зависимости от этого менять своё поведение.\n",
    "2. Создание менеджера контекста и вход/выход в блок `with` — это независимые операции. Конструкция `with open(...) as f` — это лишь внезапно оказавшаяся удобной форма записи, поэтому файл сделали менеджером контекста, который в `__enter__` не делает ничего (и так уже открыт), а в `__exit__` закрывает файл. Поэтому файл — не очень хороший менеджер контекста, его нельзя переиспользовать. Зато можно писать красиво: `with open(...) as f`.\n",
    "\n",
    "Этот пример показывает, что объекты можно использовать и даже если у нас вообще никаких данных нет, только логика, которую мы хотим куда-то передать.\n",
    "\n",
    "Другой пример менеджера контекста, который вы уже видели — `pytest.raises`. Он в `__exit__` проверяет, что было выброшено определённое исключение.\n",
    "\n",
    "В качестве ещё одного примера напишем менеджер контекста, который замеряет время выполнения блока:"
   ]
  },
  {
   "cell_type": "code",
   "execution_count": 5,
   "metadata": {},
   "outputs": [],
   "source": [
    "import time\n",
    "\n",
    "class Timer:\n",
    "    def __enter__(self):\n",
    "        self.start_time = time.process_time()\n",
    "        \n",
    "    def __exit__(self, exc_type, exc_value, traceback):\n",
    "        self.end_time = time.process_time()\n",
    "        self.duration = self.end_time - self.start_time"
   ]
  },
  {
   "cell_type": "code",
   "execution_count": 6,
   "metadata": {},
   "outputs": [
    {
     "name": "stdout",
     "output_type": "stream",
     "text": [
      "0.12480079999999993\n",
      "1.0920069999999997\n"
     ]
    }
   ],
   "source": [
    "t = Timer()\n",
    "with t:\n",
    "    [2 * x for x in range(int(1e6))]\n",
    "print(t.duration)\n",
    "\n",
    "with t:\n",
    "    [2 * x for x in range(int(1e7))]\n",
    "print(t.duration)"
   ]
  },
  {
   "cell_type": "markdown",
   "metadata": {},
   "source": [
    "Дальше можно было бы добавить в `Timer` возможность запомнить все проведённые измерения, посчитать среднее время выполнения, ещё что-нибудь... Но мы этим заниматься не будем.\n",
    "\n",
    "Основная мысль та же, что и в прошлом файле: объект характеризуется тем, за что он отвечает. В прошлом файле отвечал за чтение данных (байт, сообщений, чего угодно), в этом файле отвечает за то, что выполняется \"вокруг\" некоторого куска кода."
   ]
  },
  {
   "cell_type": "code",
   "execution_count": 7,
   "metadata": {},
   "outputs": [],
   "source": [
    "# Кстати, есть синтаксический сахар, позволяющий писать менеджеры контекста попороще: при помощи декораторов и yield\n",
    "import time\n",
    "from contextlib import contextmanager\n",
    "\n",
    "@contextmanager\n",
    "def time_and_print():\n",
    "    start_time = time.process_time()\n",
    "    yield  # В этот момент `time_and_print` прерывается, а декоратор может передать управление в блок with\n",
    "    print(time.process_time() - start_time)"
   ]
  },
  {
   "cell_type": "code",
   "execution_count": 8,
   "metadata": {},
   "outputs": [
    {
     "name": "stdout",
     "output_type": "stream",
     "text": [
      "0.1092006999999997\n",
      "1.1232072\n"
     ]
    }
   ],
   "source": [
    "with time_and_print():\n",
    "    [2 * x for x in range(int(1e6))]\n",
    "with time_and_print():\n",
    "    [2 * x for x in range(int(1e7))]"
   ]
  },
  {
   "cell_type": "markdown",
   "metadata": {},
   "source": [
    "По сути `@contextmanager` берёт произвольный генератор и собирает из него менеджер контекста: в `__enter__` выполняется код до первого `yield` (т.е. до первого \"элемента\", который генератор возвращает), а в `__exit__` — всё остальное."
   ]
  }
 ],
 "metadata": {
  "kernelspec": {
   "display_name": "Python 3",
   "language": "python",
   "name": "python3"
  },
  "language_info": {
   "codemirror_mode": {
    "name": "ipython",
    "version": 3
   },
   "file_extension": ".py",
   "mimetype": "text/x-python",
   "name": "python",
   "nbconvert_exporter": "python",
   "pygments_lexer": "ipython3",
   "version": "3.6.4"
  }
 },
 "nbformat": 4,
 "nbformat_minor": 2
}
