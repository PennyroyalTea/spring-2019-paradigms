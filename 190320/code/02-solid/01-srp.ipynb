{
 "cells": [
  {
   "cell_type": "markdown",
   "metadata": {},
   "source": [
    "В объектно-ориентированном программировании чисто технически объектом можно сделать что угодно. Иногда это окажется удобно, иногда жутко неудобно. Человечество подмечает закономерности и \"удобные\" называет паттерны (шаблоны) проектирования, а \"неудобные\" — антипаттерны. Также можно заметить более общие закономерности и сформулировать какие-нибудь _принципы проектирования_.\n",
    "\n",
    "Есть популярная группа из пяти принципов проектирования объектно-ориентированных программ, которая называется [SOLID](https://ru.wikipedia.org/wiki/SOLID_(%D0%BE%D0%B1%D1%8A%D0%B5%D0%BA%D1%82%D0%BD%D0%BE-%D0%BE%D1%80%D0%B8%D0%B5%D0%BD%D1%82%D0%B8%D1%80%D0%BE%D0%B2%D0%B0%D0%BD%D0%BD%D0%BE%D0%B5_%D0%BF%D1%80%D0%BE%D0%B3%D1%80%D0%B0%D0%BC%D0%BC%D0%B8%D1%80%D0%BE%D0%B2%D0%B0%D0%BD%D0%B8%D0%B5)) — по первым буквам названий этих принципов. Сейчас я их перечислю, а в ближайших файлах разберём каждый подробно: сначала формулируется принцип, потом идёт пояснение, потом идёт пример антипаттерна (как делать **не** надо), а потом пример того, как можно принцип всё-таки соблюсти. Исходные формулировки могут звучать непонятно:\n",
    "\n",
    "1. **S**ingle responsibility principle (SRP) — принцип единой ответственности. У каждого класса должна быть ровно одна ответственность и не больше.\n",
    "2. **O**pen-closed principle (OCP). Каждая сущность должна быть открыта для расширения, но закрыта для модификации.\n",
    "3. **L**iskov substitution principle (LSP). Объекты должно быть можно заменить на любой экземпляр его подтипа без нарушения корректности.\n",
    "4. **I**nterface segregation principle (ISP). Много интерфейсов под конкретных клиентов лучше, чем один общий интерфейс.\n",
    "5. **D**ependency inversion principle (DIP). Не абстракции зависят от реализаций, а реализации от абстракций."
   ]
  },
  {
   "cell_type": "markdown",
   "metadata": {},
   "source": [
    "Начнём с SRP. Типичный антипаттерн для него — [God Object](https://ru.wikipedia.org/wiki/%D0%91%D0%BE%D0%B6%D0%B5%D1%81%D1%82%D0%B2%D0%B5%D0%BD%D0%BD%D1%8B%D0%B9_%D0%BE%D0%B1%D1%8A%D0%B5%D0%BA%D1%82). Это когда у нас есть один объект, который делает сразу всё. Например, пусть мы хотим сделать какой-нибудь отчёт:"
   ]
  },
  {
   "cell_type": "code",
   "execution_count": 1,
   "metadata": {},
   "outputs": [],
   "source": [
    "import sys\n",
    "\n",
    "class Report:\n",
    "    def main(self):\n",
    "        _, self.data, output = sys.argv\n",
    "        if output == 'xml':\n",
    "            self.make_xml_report()\n",
    "        if output == 'markdown':\n",
    "            self.make_markdown_report()\n",
    "            \n",
    "    def make_report(self):\n",
    "        if self.data.startswith('!'):\n",
    "            return {\n",
    "                'Важно': [self.data]\n",
    "            }\n",
    "        return {\n",
    "            'Секция 1': ['Привет', self.data],\n",
    "            'Секция 2': ['Пока', self.data],\n",
    "        }\n",
    "\n",
    "    def make_xml_report(self):\n",
    "        print('<xml>')\n",
    "        for section, values in self.make_report().items():\n",
    "            print('<section name=\"{}\">'.format(section))\n",
    "            for value in values:\n",
    "                print('<value>{}</value>'.format(value))\n",
    "            print('</section>')\n",
    "        print('</xml>')\n",
    "        \n",
    "    def make_markdown_report(self):\n",
    "        for section, values in self.make_report().items():\n",
    "            print('# ' + section)\n",
    "            for value in values:\n",
    "                print('* ' + value)"
   ]
  },
  {
   "cell_type": "code",
   "execution_count": 2,
   "metadata": {},
   "outputs": [
    {
     "name": "stdout",
     "output_type": "stream",
     "text": [
      "<xml>\n",
      "<section name=\"Секция 1\">\n",
      "<value>Привет</value>\n",
      "<value>me</value>\n",
      "</section>\n",
      "<section name=\"Секция 2\">\n",
      "<value>Пока</value>\n",
      "<value>me</value>\n",
      "</section>\n",
      "</xml>\n"
     ]
    }
   ],
   "source": [
    "sys.argv = [None, 'me', 'xml']\n",
    "Report().main()"
   ]
  },
  {
   "cell_type": "code",
   "execution_count": 3,
   "metadata": {},
   "outputs": [
    {
     "name": "stdout",
     "output_type": "stream",
     "text": [
      "# Секция 1\n",
      "* Привет\n",
      "* me\n",
      "# Секция 2\n",
      "* Пока\n",
      "* me\n"
     ]
    }
   ],
   "source": [
    "sys.argv = [None, 'me', 'markdown']\n",
    "Report().main()"
   ]
  },
  {
   "cell_type": "code",
   "execution_count": 4,
   "metadata": {},
   "outputs": [
    {
     "name": "stdout",
     "output_type": "stream",
     "text": [
      "# Важно\n",
      "* !me\n"
     ]
    }
   ],
   "source": [
    "sys.argv = [None, '!me', 'markdown']\n",
    "Report().main()"
   ]
  },
  {
   "cell_type": "markdown",
   "metadata": {},
   "source": [
    "В чём проблема этого объекта? Вообще объекты разрешают и провоцируют активно связывать вместе разные методы. Например, через поля. Или через вызовы друг друга. Как следствие, тут нельзя протестировать отдельно вывод отчёта, не протестировав при этом `make_report`. А его нельзя протестировать, не задав `data` или не вызвав `main()`. Это всё следствия.\n",
    "\n",
    "Нарушается ли тут принцип SRP? Да, нарушается: этот объект и аргументы командной строки обрабатывает, и отчёт составляет, и форматирует его в нужный формат, и на экран выводит. То есть по-хорошему тут должно быть четыре объекта минимум. Мы не стремимся сделать объектами вообще всё, поэтому я бы парсинг командной строки и вывод на экран сделал просто отдельными функциями. А вот оставшиеся две ответственности (создание отчёта и вывод на экран) можно сделать объектами.\n",
    "\n",
    "Тут естественным образом вылезает две абстракции: \"создатель отчётов\" (кто-то, кто возвращает отчёт в виде словаря, может быть хоть функцией) и \"форматирователь отчётов\" (кто-то, кто по отчёту генерирует результат, тоже может быть функцией, в целом)."
   ]
  },
  {
   "cell_type": "code",
   "execution_count": 5,
   "metadata": {},
   "outputs": [],
   "source": [
    "from abc import ABCMeta, abstractmethod\n",
    "\n",
    "class AbstractReportCreator(metaclass=ABCMeta):\n",
    "    @abstractmethod\n",
    "    def make_report(self):\n",
    "        pass\n",
    "    \n",
    "class AbstractReportFormatter(metaclass=ABCMeta):\n",
    "    @abstractmethod\n",
    "    def format_report(self, report):\n",
    "        pass\n",
    "    \n",
    "class BasicReportCreator(AbstractReportCreator):\n",
    "    def __init__(self, data):\n",
    "        self.data = data\n",
    "    \n",
    "    def make_report(self):\n",
    "        return {\n",
    "            'Секция 1': ['Привет', self.data],\n",
    "            'Секция 2': ['Пока', self.data],\n",
    "        }\n",
    "\n",
    "class ImportantReportCreator(AbstractReportCreator):\n",
    "    def __init__(self, data):\n",
    "        self.data = data\n",
    "    \n",
    "    def make_report(self):\n",
    "        return {\n",
    "            'Важно': [self.data]\n",
    "        }\n",
    "    \n",
    "class XmlReportFormatter(AbstractReportFormatter):\n",
    "    def format_report(self, report):\n",
    "        yield '<xml>'\n",
    "        for section, values in report.items():\n",
    "            yield '<section name=\"{}\">'.format(section)\n",
    "            for value in values:\n",
    "                yield '<value>{}</value>'.format(value)\n",
    "            yield '</section>'\n",
    "        yield '</xml>'\n",
    "        \n",
    "class MarkdownReportFormatter(AbstractReportFormatter):\n",
    "    def format_report(self, report):\n",
    "        for section, values in report.items():\n",
    "            yield '# ' + section\n",
    "            for value in values:\n",
    "                yield '* ' + value\n",
    "\n",
    "def print_report(creator, formatter):\n",
    "    for line in formatter.format_report(creator.make_report()):\n",
    "        print(line)"
   ]
  },
  {
   "cell_type": "markdown",
   "metadata": {},
   "source": [
    "Длинно? А то. Зато теперь мы можем:\n",
    "\n",
    "1. Тестировать все кусочки по отдельности.\n",
    "2. Переиспользовать создание и форматирование отчётов в других местах кода.\n",
    "3. Безболезненно добавлять новые способы создания и форматирования отчётов. Хоть плагины поддержать.\n",
    "\n",
    "Разумеется, все эти пункты в маленькой программе с чёткими требованиями неактуальны и ООП тут скорее раздует код. Зато если мы работаем над большим проектом, который будет развиваться в неизвестном направлении, оказывается удобным написать чуть больше кода на каждую реализации, зато получить прекрасный удобный способ композиции:"
   ]
  },
  {
   "cell_type": "code",
   "execution_count": 6,
   "metadata": {},
   "outputs": [
    {
     "name": "stdout",
     "output_type": "stream",
     "text": [
      "<xml>\n",
      "<section name=\"Секция 1\">\n",
      "<value>Привет</value>\n",
      "<value>me</value>\n",
      "</section>\n",
      "<section name=\"Секция 2\">\n",
      "<value>Пока</value>\n",
      "<value>me</value>\n",
      "</section>\n",
      "</xml>\n"
     ]
    }
   ],
   "source": [
    "print_report(BasicReportCreator('me'), XmlReportFormatter())"
   ]
  },
  {
   "cell_type": "code",
   "execution_count": 7,
   "metadata": {},
   "outputs": [
    {
     "name": "stdout",
     "output_type": "stream",
     "text": [
      "# Важно\n",
      "* !me\n"
     ]
    }
   ],
   "source": [
    "print_report(ImportantReportCreator('!me'), MarkdownReportFormatter())"
   ]
  },
  {
   "cell_type": "markdown",
   "metadata": {},
   "source": [
    "Код выше намного чётче отражает намерения программиста и намекает, что у нас программа состоит из маленьких независимых кусочков. Гораздо проще понять, какой кусочек нужно поменять, если мы хотим добавить новый способ форматирования отчётов."
   ]
  }
 ],
 "metadata": {
  "kernelspec": {
   "display_name": "Python 3",
   "language": "python",
   "name": "python3"
  },
  "language_info": {
   "codemirror_mode": {
    "name": "ipython",
    "version": 3
   },
   "file_extension": ".py",
   "mimetype": "text/x-python",
   "name": "python",
   "nbconvert_exporter": "python",
   "pygments_lexer": "ipython3",
   "version": "3.6.4"
  }
 },
 "nbformat": 4,
 "nbformat_minor": 2
}
