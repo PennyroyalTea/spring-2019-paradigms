{
 "cells": [
  {
   "cell_type": "markdown",
   "metadata": {},
   "source": [
    "Последний принцип проектирование — dependency inversion principle. Принцип инверсии зависимостей.\n",
    "Конкретные реализации должны зависить от абстракций, а не наоборот.\n",
    "\n",
    "Пример нарушения (даже объекты не нужны):"
   ]
  },
  {
   "cell_type": "code",
   "execution_count": 6,
   "metadata": {},
   "outputs": [],
   "source": [
    "def print_json(data):\n",
    "    print('{\"data\":\"' + data + '\"}')\n",
    "    \n",
    "def print_xml(data, root):\n",
    "    print('<{root}><data>{data}</data></{root}>'.format(\n",
    "        root=root,\n",
    "        data=data\n",
    "    ))\n",
    "\n",
    "def make_report(numbers, output, xml_root=None):\n",
    "    data = 'Sum is {}'.format(sum(numbers))\n",
    "    if output == 'json':\n",
    "        print_json(data)\n",
    "    elif output == 'xml':\n",
    "        print_xml(data, xml_root)"
   ]
  },
  {
   "cell_type": "code",
   "execution_count": 7,
   "metadata": {},
   "outputs": [
    {
     "name": "stdout",
     "output_type": "stream",
     "text": [
      "{\"data\":\"Sum is 10\"}\n"
     ]
    }
   ],
   "source": [
    "make_report([1, 2, 3, 4], 'json')"
   ]
  },
  {
   "cell_type": "code",
   "execution_count": 8,
   "metadata": {},
   "outputs": [
    {
     "name": "stdout",
     "output_type": "stream",
     "text": [
      "<some_root><data>Sum is 10</data></some_root>\n"
     ]
    }
   ],
   "source": [
    "make_report([1, 2, 3, 4], 'xml', 'some_root')"
   ]
  },
  {
   "cell_type": "markdown",
   "metadata": {},
   "source": [
    "Здесь у нас имеется:\n",
    "\n",
    "* Одна абстракция (\"выводильщик данных\")\n",
    "* Две её конкретных реализации (`print_json`, `print_xml`)\n",
    "* Ещё одна абстракция (\"выводильщик отчётов\")\n",
    "* Одна её конкретная реализация (`make_report`).\n",
    "\n",
    "И получается, что абстрацкия \"выводильщик отчётов\" зависит от конкретных реализаций выводильщиков данных, потому что любой выводильщик отчётов обязан брать в качестве параметра `xml_root`, чтобы передать его конкретному `print_xml`.\n",
    "Более того: конкретный `make_report` зависит от конкретного списка реализаций выводильшиков данных: он принимает параметр `output` и делает кучу if'ов, чтобы выбрать нужного выводильщика.\n",
    "Чем это плохо:\n",
    "\n",
    "1. Нельзя просто так взять и добавить ещё одного выводильщика. Особенно если он хочет дополнительные параметры.\n",
    "2. Нельзя просто так взять и добавить параметров к `print_json`, потому что их потребуется добавлять в `make_report`.\n",
    "\n",
    "Решение проблемы — сделать так, чтобы каждый конкретный выводильщик отчётов зависил лишь от абстракции \"выводильщик данных\". Для этого нужно её придумать. Например, давайте скажем, что \"выводильщик данных\" — это функция с одним параметром `data`:"
   ]
  },
  {
   "cell_type": "code",
   "execution_count": 9,
   "metadata": {},
   "outputs": [],
   "source": [
    "def print_json(data):  # Сразу выводильщик данных\n",
    "    print('{\"data\":\"' + data + '\"}')\n",
    "    \n",
    "def create_print_xml(root):  # Создаём выводильщика с конкретным root\n",
    "    def print_xml(data):\n",
    "        print('<{root}><data>{data}</data></{root}>'.format(\n",
    "            root=root,\n",
    "            data=data\n",
    "        ))\n",
    "    return print_xml"
   ]
  },
  {
   "cell_type": "markdown",
   "metadata": {},
   "source": [
    "А после этого скажем, что конкретный `make_report` принимает любого абстрактного выводильщика данных:"
   ]
  },
  {
   "cell_type": "code",
   "execution_count": 10,
   "metadata": {},
   "outputs": [],
   "source": [
    "def make_report(numbers, formatter):\n",
    "    data = 'Sum is {}'.format(sum(numbers))\n",
    "    formatter(data)"
   ]
  },
  {
   "cell_type": "code",
   "execution_count": 11,
   "metadata": {},
   "outputs": [
    {
     "name": "stdout",
     "output_type": "stream",
     "text": [
      "{\"data\":\"Sum is 10\"}\n"
     ]
    }
   ],
   "source": [
    "make_report([1, 2, 3, 4], print_json)"
   ]
  },
  {
   "cell_type": "code",
   "execution_count": 12,
   "metadata": {},
   "outputs": [
    {
     "name": "stdout",
     "output_type": "stream",
     "text": [
      "<some_root><data>Sum is 10</data></some_root>\n"
     ]
    }
   ],
   "source": [
    "make_report([1, 2, 3, 4], create_print_xml('some_root'))"
   ]
  },
  {
   "cell_type": "markdown",
   "metadata": {},
   "source": [
    "Почему \"инверсия зависимостей\"? Потому что раньше у нас абстракция выводильщика отчётов зависела от конкретных выводильщиков данных, а теперь наоборот: конкретный выводильщик отчётов зависи от абстрактного выводильщика данных.\n",
    "\n",
    "На бытовом уровне можно сформулировать так: если вы внутри функции/метода/класса напрямую обращаетесь к другому классу, это не очень хорошо, потому что вы зависите от конкретной реализации. Один из способов от этого избавиться — начать зависеть от абстракции, а конкретную реализацию получить как параметр конструктора. Это, кстати, называется [внедрение зависимостей](https://ru.wikipedia.org/wiki/%D0%92%D0%BD%D0%B5%D0%B4%D1%80%D0%B5%D0%BD%D0%B8%D0%B5_%D0%B7%D0%B0%D0%B2%D0%B8%D1%81%D0%B8%D0%BC%D0%BE%D1%81%D1%82%D0%B8)."
   ]
  }
 ],
 "metadata": {
  "kernelspec": {
   "display_name": "Python 3",
   "language": "python",
   "name": "python3"
  },
  "language_info": {
   "codemirror_mode": {
    "name": "ipython",
    "version": 3
   },
   "file_extension": ".py",
   "mimetype": "text/x-python",
   "name": "python",
   "nbconvert_exporter": "python",
   "pygments_lexer": "ipython3",
   "version": "3.6.4"
  }
 },
 "nbformat": 4,
 "nbformat_minor": 2
}
