{
 "cells": [
  {
   "cell_type": "markdown",
   "metadata": {},
   "source": [
    "Третий принцип мы уже частично разбирали две недели назад. Это принцип подстановки Лисков.\n",
    "\n",
    "Пусть есть свойство $P(x)$, где $x$ — некоторый класс. Тогда если $y$ — подкласс $x$, то $P(y)$.\n",
    "Другими словами: если заменить объект $A$ на объект $B$, являющийся подтипом $A$, то никто ничего не заметит.\n",
    "\n",
    "Классический пример нарушения LSP — [проблема квадрата-прямоугольника](https://habr.com/ru/post/351730/). С одной стороны любой квадрат является прямоугольником, но это нарушает LSP: у прямоугольника есть свойство \"можно поменять одну сторону\", которого нет у квадрата.\n",
    "\n",
    "В конкретно этом случае надо очень хорошо подумать, а так ли нам надо разделять квадрат и прямоугольник на два разных класса и так ли нам надо их друг от друга наследовать. Может, и не надо на самом деле. Может, нам вообще хватит многоугольников. Или функции `is_square` (если нам надо только иногда обрабатывать запрос \"выведи все квадраты и только их\").\n",
    "\n",
    "Чуть более тонкий пример нарушения LSP приведён ниже:"
   ]
  },
  {
   "cell_type": "code",
   "execution_count": 1,
   "metadata": {},
   "outputs": [],
   "source": [
    "class mydict:\n",
    "    def __init__(self):\n",
    "        self.dict = {}\n",
    "        \n",
    "    def __getitem__(self, key):\n",
    "        return self.dict[key]\n",
    "    \n",
    "    def __setitem__(self, key, value):\n",
    "        assert key not in self\n",
    "        self.dict[key] = value\n",
    "        \n",
    "    def __contains__(self, key):\n",
    "        return key in self.dict"
   ]
  },
  {
   "cell_type": "code",
   "execution_count": 2,
   "metadata": {},
   "outputs": [
    {
     "name": "stdout",
     "output_type": "stream",
     "text": [
      "{'foo': 20, 'bar': 30}\n"
     ]
    }
   ],
   "source": [
    "x = mydict()\n",
    "x['foo'] = 20\n",
    "x['bar'] = 30\n",
    "print(x.dict)"
   ]
  },
  {
   "cell_type": "code",
   "execution_count": 3,
   "metadata": {},
   "outputs": [
    {
     "ename": "AssertionError",
     "evalue": "",
     "output_type": "error",
     "traceback": [
      "\u001b[1;31m---------------------------------------------------------------------------\u001b[0m",
      "\u001b[1;31mAssertionError\u001b[0m                            Traceback (most recent call last)",
      "\u001b[1;32m<ipython-input-3-a33dc83f0d41>\u001b[0m in \u001b[0;36m<module>\u001b[1;34m()\u001b[0m\n\u001b[1;32m----> 1\u001b[1;33m \u001b[0mx\u001b[0m\u001b[1;33m[\u001b[0m\u001b[1;34m'bar'\u001b[0m\u001b[1;33m]\u001b[0m \u001b[1;33m=\u001b[0m \u001b[1;36m40\u001b[0m\u001b[1;33m\u001b[0m\u001b[0m\n\u001b[0m",
      "\u001b[1;32m<ipython-input-1-ad5a8a4bce30>\u001b[0m in \u001b[0;36m__setitem__\u001b[1;34m(self, key, value)\u001b[0m\n\u001b[0;32m      7\u001b[0m \u001b[1;33m\u001b[0m\u001b[0m\n\u001b[0;32m      8\u001b[0m     \u001b[1;32mdef\u001b[0m \u001b[0m__setitem__\u001b[0m\u001b[1;33m(\u001b[0m\u001b[0mself\u001b[0m\u001b[1;33m,\u001b[0m \u001b[0mkey\u001b[0m\u001b[1;33m,\u001b[0m \u001b[0mvalue\u001b[0m\u001b[1;33m)\u001b[0m\u001b[1;33m:\u001b[0m\u001b[1;33m\u001b[0m\u001b[0m\n\u001b[1;32m----> 9\u001b[1;33m         \u001b[1;32massert\u001b[0m \u001b[0mkey\u001b[0m \u001b[1;32mnot\u001b[0m \u001b[1;32min\u001b[0m \u001b[0mself\u001b[0m\u001b[1;33m\u001b[0m\u001b[0m\n\u001b[0m\u001b[0;32m     10\u001b[0m         \u001b[0mself\u001b[0m\u001b[1;33m.\u001b[0m\u001b[0mdict\u001b[0m\u001b[1;33m[\u001b[0m\u001b[0mkey\u001b[0m\u001b[1;33m]\u001b[0m \u001b[1;33m=\u001b[0m \u001b[0mvalue\u001b[0m\u001b[1;33m\u001b[0m\u001b[0m\n\u001b[0;32m     11\u001b[0m \u001b[1;33m\u001b[0m\u001b[0m\n",
      "\u001b[1;31mAssertionError\u001b[0m: "
     ]
    }
   ],
   "source": [
    "x['bar'] = 40"
   ]
  },
  {
   "cell_type": "markdown",
   "metadata": {},
   "source": [
    "Если сказать, что `mydict` — подтип `dict`, то нарушится LSP. Дело в том, что у `dict` есть свойство \"любой элемент можно переприсвоить\". А у `mydict` однажды присвоенный элемент изменить нельзя.\n",
    "\n",
    "Проблемы могут возникать неожиданно. Пусть есть функция `add_keys(d, keys, value)`, которая делает так, что в `d` появляются все ключи из `keys`. Если какого-то ключа не было, ему ставят в соответствие `value`:"
   ]
  },
  {
   "cell_type": "code",
   "execution_count": 4,
   "metadata": {},
   "outputs": [],
   "source": [
    "def add_keys(d, keys, value):\n",
    "    for key in keys:\n",
    "        if key not in d:\n",
    "            d[key] = value"
   ]
  },
  {
   "cell_type": "code",
   "execution_count": 5,
   "metadata": {},
   "outputs": [
    {
     "name": "stdout",
     "output_type": "stream",
     "text": [
      "{'foo': 10, 'baz': 20, 'bar': 100}\n"
     ]
    }
   ],
   "source": [
    "d = {'foo': 10, 'baz': 20}\n",
    "add_keys(d, ['foo', 'bar', 'baz'], 100)\n",
    "print(d)"
   ]
  },
  {
   "cell_type": "code",
   "execution_count": 6,
   "metadata": {},
   "outputs": [
    {
     "name": "stdout",
     "output_type": "stream",
     "text": [
      "{'foo': 10, 'baz': 20, 'bar': 100}\n"
     ]
    }
   ],
   "source": [
    "d = mydict()\n",
    "d['foo'] = 10\n",
    "d['baz'] = 20\n",
    "add_keys(d, ['foo', 'bar', 'baz'], 100)\n",
    "print(d.dict)"
   ]
  },
  {
   "cell_type": "markdown",
   "metadata": {},
   "source": [
    "Кажется, что всё работает. Но мы могли бы реализовать функцию `add_keys` и по-другому! Не то чтобы красивее, просто по-другому:"
   ]
  },
  {
   "cell_type": "code",
   "execution_count": 7,
   "metadata": {},
   "outputs": [],
   "source": [
    "def add_keys(d, keys, default_value):\n",
    "    for key in keys:\n",
    "        cur_value = default_value\n",
    "        if key in d:\n",
    "            cur_value = d[key]\n",
    "        d[key] = cur_value"
   ]
  },
  {
   "cell_type": "code",
   "execution_count": 8,
   "metadata": {},
   "outputs": [
    {
     "name": "stdout",
     "output_type": "stream",
     "text": [
      "{'foo': 10, 'baz': 20, 'bar': 100}\n"
     ]
    }
   ],
   "source": [
    "d = {'foo': 10, 'baz': 20}\n",
    "add_keys(d, ['foo', 'bar', 'baz'], 100)\n",
    "print(d)"
   ]
  },
  {
   "cell_type": "code",
   "execution_count": 9,
   "metadata": {},
   "outputs": [
    {
     "ename": "AssertionError",
     "evalue": "",
     "output_type": "error",
     "traceback": [
      "\u001b[1;31m---------------------------------------------------------------------------\u001b[0m",
      "\u001b[1;31mAssertionError\u001b[0m                            Traceback (most recent call last)",
      "\u001b[1;32m<ipython-input-9-93c6659f9f49>\u001b[0m in \u001b[0;36m<module>\u001b[1;34m()\u001b[0m\n\u001b[0;32m      2\u001b[0m \u001b[0md\u001b[0m\u001b[1;33m[\u001b[0m\u001b[1;34m'foo'\u001b[0m\u001b[1;33m]\u001b[0m \u001b[1;33m=\u001b[0m \u001b[1;36m10\u001b[0m\u001b[1;33m\u001b[0m\u001b[0m\n\u001b[0;32m      3\u001b[0m \u001b[0md\u001b[0m\u001b[1;33m[\u001b[0m\u001b[1;34m'baz'\u001b[0m\u001b[1;33m]\u001b[0m \u001b[1;33m=\u001b[0m \u001b[1;36m20\u001b[0m\u001b[1;33m\u001b[0m\u001b[0m\n\u001b[1;32m----> 4\u001b[1;33m \u001b[0madd_keys\u001b[0m\u001b[1;33m(\u001b[0m\u001b[0md\u001b[0m\u001b[1;33m,\u001b[0m \u001b[1;33m[\u001b[0m\u001b[1;34m'foo'\u001b[0m\u001b[1;33m,\u001b[0m \u001b[1;34m'bar'\u001b[0m\u001b[1;33m,\u001b[0m \u001b[1;34m'baz'\u001b[0m\u001b[1;33m]\u001b[0m\u001b[1;33m,\u001b[0m \u001b[1;36m100\u001b[0m\u001b[1;33m)\u001b[0m\u001b[1;33m\u001b[0m\u001b[0m\n\u001b[0m\u001b[0;32m      5\u001b[0m \u001b[0mprint\u001b[0m\u001b[1;33m(\u001b[0m\u001b[0md\u001b[0m\u001b[1;33m.\u001b[0m\u001b[0mdict\u001b[0m\u001b[1;33m)\u001b[0m\u001b[1;33m\u001b[0m\u001b[0m\n",
      "\u001b[1;32m<ipython-input-7-7b643e2ad113>\u001b[0m in \u001b[0;36madd_keys\u001b[1;34m(d, keys, default_value)\u001b[0m\n\u001b[0;32m      4\u001b[0m         \u001b[1;32mif\u001b[0m \u001b[0mkey\u001b[0m \u001b[1;32min\u001b[0m \u001b[0md\u001b[0m\u001b[1;33m:\u001b[0m\u001b[1;33m\u001b[0m\u001b[0m\n\u001b[0;32m      5\u001b[0m             \u001b[0mcur_value\u001b[0m \u001b[1;33m=\u001b[0m \u001b[0md\u001b[0m\u001b[1;33m[\u001b[0m\u001b[0mkey\u001b[0m\u001b[1;33m]\u001b[0m\u001b[1;33m\u001b[0m\u001b[0m\n\u001b[1;32m----> 6\u001b[1;33m         \u001b[0md\u001b[0m\u001b[1;33m[\u001b[0m\u001b[0mkey\u001b[0m\u001b[1;33m]\u001b[0m \u001b[1;33m=\u001b[0m \u001b[0mcur_value\u001b[0m\u001b[1;33m\u001b[0m\u001b[0m\n\u001b[0m",
      "\u001b[1;32m<ipython-input-1-ad5a8a4bce30>\u001b[0m in \u001b[0;36m__setitem__\u001b[1;34m(self, key, value)\u001b[0m\n\u001b[0;32m      7\u001b[0m \u001b[1;33m\u001b[0m\u001b[0m\n\u001b[0;32m      8\u001b[0m     \u001b[1;32mdef\u001b[0m \u001b[0m__setitem__\u001b[0m\u001b[1;33m(\u001b[0m\u001b[0mself\u001b[0m\u001b[1;33m,\u001b[0m \u001b[0mkey\u001b[0m\u001b[1;33m,\u001b[0m \u001b[0mvalue\u001b[0m\u001b[1;33m)\u001b[0m\u001b[1;33m:\u001b[0m\u001b[1;33m\u001b[0m\u001b[0m\n\u001b[1;32m----> 9\u001b[1;33m         \u001b[1;32massert\u001b[0m \u001b[0mkey\u001b[0m \u001b[1;32mnot\u001b[0m \u001b[1;32min\u001b[0m \u001b[0mself\u001b[0m\u001b[1;33m\u001b[0m\u001b[0m\n\u001b[0m\u001b[0;32m     10\u001b[0m         \u001b[0mself\u001b[0m\u001b[1;33m.\u001b[0m\u001b[0mdict\u001b[0m\u001b[1;33m[\u001b[0m\u001b[0mkey\u001b[0m\u001b[1;33m]\u001b[0m \u001b[1;33m=\u001b[0m \u001b[0mvalue\u001b[0m\u001b[1;33m\u001b[0m\u001b[0m\n\u001b[0;32m     11\u001b[0m \u001b[1;33m\u001b[0m\u001b[0m\n",
      "\u001b[1;31mAssertionError\u001b[0m: "
     ]
    }
   ],
   "source": [
    "d = mydict()\n",
    "d['foo'] = 10\n",
    "d['baz'] = 20\n",
    "add_keys(d, ['foo', 'bar', 'baz'], 100)\n",
    "print(d.dict)"
   ]
  },
  {
   "cell_type": "markdown",
   "metadata": {},
   "source": [
    "И в этот момент всё с треском падает. В новой реализации `add_keys` мы воспользовались предположением, что в словаре можно перезаписать элемент на такой же и ничего не произойдёт. Поведение `add_keys` с обычным словарём не поменялось. А в случае с `mydict` поменялось катастрофически.\n",
    "\n",
    "Разумеется, здесь можно впасть в философию: а точно ли в контракте `add_keys` не было требования \"не переприсваивать уже существующие элементы\"?\n",
    "\n",
    "Может и было, но тогда это стоит явно формулировать. Способ получше — явно сказать, кого ожидает `add_keys` и с какими требованиями, а когда говорим \"подтип\" (вроде `mydict`), пытаться найти способ сломать принцип подстановки Лисков. Если получилось — это не очень хорошо.\n",
    "\n",
    "На бытовом уровне: всегда чётко формулируйте требования к интерфейсу/классу, а когда делаете подтип — строго их соблюдайте. А когда где-то используете интерфейс/класс — используйте только то, что описано в требованиях."
   ]
  }
 ],
 "metadata": {
  "kernelspec": {
   "display_name": "Python 3",
   "language": "python",
   "name": "python3"
  },
  "language_info": {
   "codemirror_mode": {
    "name": "ipython",
    "version": 3
   },
   "file_extension": ".py",
   "mimetype": "text/x-python",
   "name": "python",
   "nbconvert_exporter": "python",
   "pygments_lexer": "ipython3",
   "version": "3.6.4"
  }
 },
 "nbformat": 4,
 "nbformat_minor": 2
}
